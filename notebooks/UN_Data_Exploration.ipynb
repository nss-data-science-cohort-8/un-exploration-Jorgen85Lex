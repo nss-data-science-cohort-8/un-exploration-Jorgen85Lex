{
 "cells": [
  {
   "cell_type": "markdown",
   "id": "adeef45b-1a73-4057-bd42-b3d43abc2dbf",
   "metadata": {},
   "source": [
    "## UN Data Exploration"
   ]
  },
  {
   "cell_type": "code",
   "execution_count": 114,
   "id": "18b3e893-0234-4b22-8220-ccce9f1c3c26",
   "metadata": {},
   "outputs": [],
   "source": [
    "import pandas as pd\n",
    "import numpy as np\n",
    "import matplotlib.pyplot as plt\n",
    "import seaborn as sns"
   ]
  },
  {
   "cell_type": "markdown",
   "id": "5cdd8fa3-dc61-4004-9e62-4a2e9c4f9e06",
   "metadata": {},
   "source": [
    "### Guided Practice:\n",
    " 1.\tDownload the Gross Domestic Product (GDP) per capita dataset from [http://data.un.org/Data.aspx?d=WDI&f=Indicator_Code%3aNY.GDP.PCAP.PP.KD](http://data.un.org/Data.aspx?d=WDI&f=Indicator_Code%3aNY.GDP.PCAP.PP.KD). Rename it to gdp_per_capita.csv and place it in the `data` folder of your project repository.\n",
    "\n",
    "2. Create a Jupyter Notebook in the `notebooks` folder and name it `UN_Data_Exploration`.\n",
    "    *  You are likely to get errors along the way. When you do, read the errors to try to understand what is happening and how to correct it.\n",
    "    * Use markdown cells to record your answers to any questions asked in this exercise. On the menu bar, you can toggle the cell type from 'Code' to 'Markdown'. [Here](https://www.markdownguide.org/cheat-sheet/) is a link to a cheat sheet showing the basics of styling text using Markdown.\n",
    "\n",
    "3.\tIn the first cell of your notebook, import the required packages with their customary aliases as follows:\n",
    "\n",
    "    `import pandas as pd`   \n",
    "    `import numpy as np`  \n",
    "    `import matplotlib.pyplot as plt`  \n",
    "    `import seaborn as sns`\n",
    "    \n",
    "    Keep all imports in this cell at the top of your notebook.\n",
    "    \n",
    "4.\tUsing the pandas `read_csv()` function, read the GDP dataset into your notebook as a DataFrame called `gdp_df`. After reading it in, inspect the first 10 rows and then inspect the last 10 rows. \n",
    "\n",
    "5. Drop the 'Value Footnotes' column, and rename the remaining columns to 'Country', 'Year', and 'GDP_Per_Capita'.\n",
    "\n",
    "6. How many rows and columns does gdp_df have? What are the data types of its columns? If any of the columns are not the expected types, figure out why and fix it.\n",
    "\n",
    "7. Which years are represented in this dataset? Take a look at the number of observations per year. What do you notice?\n",
    "\n",
    "8. How many countries are represented in this dataset? Which countries are least represented in the dataset? Why do you think these countries have so few observations?\n",
    "\n",
    "9. Create a new dataframe by subsetting `gdp_df` to just the year 2021. Call this new dataframe `gdp_20121`.\n",
    "\n",
    "10. Use `.describe()` to find the summary statistics for GDP per capita in 2021. \n",
    "\n",
    "11. Create a histogram of GDP Per Capita numbers for 2021 (you may wish to adjust the number of bins for your histogram). How would you describe the shape of the distribution?\n",
    "\n",
    "12. Find the top 5 counties and bottom 5 countries by GDP per capita in 2021.\n",
    "\n",
    "13. Now, return to the full dataset, `gdp_df`. Pivot the data for 1990 and 2021 (using the pandas `.pivot_table()` method or another method) so that each row corresponds to a country, each column corresponds to a year, and the values in the table give the GDP_Per_Capita amount. Drop any rows that are missing values for either 1990 or 2021. Save the result to a dataframe named `gdp_pivoted`.\n",
    "\n",
    "14. Create a new column in `gdp_pivoted` named `Percent_Change`. This column should contain the percent change in GDP_Per_Capita from 1990 to 2021. Hint: Percent change is calculated as 100*(New Value - Old Value) / Old Value.\n",
    "\n",
    "15. How many countries experienced a negative percent change in GDP per capita from 1990 to 2021?\n",
    "\n",
    "16. Which country had the highest % change in GDP per capita? Create a line plot showing this country's GDP per capita for all years from 1990 to 2018. Create another showing the country with the second highest % change in GDP. How do the trends in these countries compare?  \n",
    "**Bonus:** Put both line charts on the same plot.\n",
    "\n",
    "17. Read in continents.csv contained in the `data` folder into a new dataframe called `continents`. We will be using this dataframe to add a new column to our dataset.\n",
    "\n",
    "18. Merge gdp_df and continents. Keep only the countries that appear in both data frames. Save the result back to gdp_df.\n",
    "\n",
    "19. Determine the number of countries per continent. Create a bar chart showing this.\n",
    "\n",
    "20. Create a seaborn boxplot showing GDP per capita in 2021 split out by continent. What do you notice?\n",
    "\n",
    "21. Download the full csv containing Life expectancy at birth, total (years) from [https://data.worldbank.org/indicator/SP.DYN.LE00.IN?name_desc=false](https://data.worldbank.org/indicator/SP.DYN.LE00.IN?name_desc=false). Read this data into a DataFrame named `life_expectancy`. Note: When reading this dataset it, you may encounter an error. Modify your `read_csv` call to correct this **without modifying the original csv file**.\n",
    " \n",
    "22. Drop the Country Code, Indicator Name, and Indicator Code columns. Then use [`.melt()`](https://pandas.pydata.org/docs/reference/api/pandas.melt.html) to convert your data from wide to long. That is, instead of having one row per country and multiple colums per year, we want to have multiple rows per country and a single column for year. After melting, rename the columns to `Country`, `Year`, and `Life_Expectancy`.\n",
    "\n",
    "23. What was the first country with a life expectancy to exceed 80?\n",
    "\n",
    "24. Merge `gdp_df` and `life_expectancy`, keeping all countries and years that appear in both DataFrames. Save the result to a new DataFrame named `gdp_le`. If you get any errors in doing this, read them carefully and correct them. Look at the first five rows of your new data frame to confirm it merged correctly. Also, check the last five rows to make sure the data is clean and as expected.\n",
    "\n",
    "25. Create a new DataFrame, named `gdp_le_2021` by extracting data for the year 2021 from `gdp_le`. How many countries have a life expectancy of at least 80 in 2021?\n",
    "\n",
    "26. Find the countries that had the top 3 largest GDP per capita figures for 2021. Create a [seaborn FacetGrid](https://seaborn.pydata.org/generated/seaborn.FacetGrid.html) showing the change in life expectancy over time for these three countries. Each individual figure in the facet grid will represent a single country.\n",
    "\n",
    "27. Create a scatter plot of Life Expectancy vs GDP per Capita for the year 2021. What do you notice?\n",
    "\n",
    "28. Find the correlation between Life Expectancy and GDP per Capita for the year 2021. What is the meaning of this number?\n",
    "\n",
    "29. Add a column to `gdp_le_2021` and calculate the logarithm of GDP per capita. Find the correlation between the log of GDP per capita and life expectancy. How does this compare to the calculation in the previous part? Look at a scatter plot to see if the result of this calculation makes sense.\n",
    "\n",
    "### Bonus: Solo Exploration:\n",
    "1. Choose and download another data set from the UN data [http://data.un.org/Explorer.aspx](http://data.un.org/Explorer.aspx) to explore. You may want to combine your new dataset with one or both of the datasets that you already worked with. Report any interesting correlations or trends that you find. \n",
    "2.    If time allows, check out the plotly library to add additional interativity to your plots. [https://plotly.com/python/plotly-express/](https://plotly.com/python/plotly-express/)."
   ]
  },
  {
   "cell_type": "code",
   "execution_count": 116,
   "id": "78bda0b2-60a7-4c3e-9909-5a35b44f0136",
   "metadata": {},
   "outputs": [],
   "source": [
    "gdp_df = pd.read_csv(\"../data/gdp_per_capital.csv\")"
   ]
  },
  {
   "cell_type": "code",
   "execution_count": 117,
   "id": "de65feda-9959-4ce1-acad-79a5830860db",
   "metadata": {},
   "outputs": [
    {
     "data": {
      "text/html": [
       "<div>\n",
       "<style scoped>\n",
       "    .dataframe tbody tr th:only-of-type {\n",
       "        vertical-align: middle;\n",
       "    }\n",
       "\n",
       "    .dataframe tbody tr th {\n",
       "        vertical-align: top;\n",
       "    }\n",
       "\n",
       "    .dataframe thead th {\n",
       "        text-align: right;\n",
       "    }\n",
       "</style>\n",
       "<table border=\"1\" class=\"dataframe\">\n",
       "  <thead>\n",
       "    <tr style=\"text-align: right;\">\n",
       "      <th></th>\n",
       "      <th>Country or Area</th>\n",
       "      <th>Year</th>\n",
       "      <th>Value</th>\n",
       "      <th>Value Footnotes</th>\n",
       "    </tr>\n",
       "  </thead>\n",
       "  <tbody>\n",
       "    <tr>\n",
       "      <th>0</th>\n",
       "      <td>Afghanistan</td>\n",
       "      <td>2021</td>\n",
       "      <td>1517.016266</td>\n",
       "      <td>NaN</td>\n",
       "    </tr>\n",
       "    <tr>\n",
       "      <th>1</th>\n",
       "      <td>Afghanistan</td>\n",
       "      <td>2020</td>\n",
       "      <td>1968.341002</td>\n",
       "      <td>NaN</td>\n",
       "    </tr>\n",
       "    <tr>\n",
       "      <th>2</th>\n",
       "      <td>Afghanistan</td>\n",
       "      <td>2019</td>\n",
       "      <td>2079.921861</td>\n",
       "      <td>NaN</td>\n",
       "    </tr>\n",
       "    <tr>\n",
       "      <th>3</th>\n",
       "      <td>Afghanistan</td>\n",
       "      <td>2018</td>\n",
       "      <td>2060.698973</td>\n",
       "      <td>NaN</td>\n",
       "    </tr>\n",
       "    <tr>\n",
       "      <th>4</th>\n",
       "      <td>Afghanistan</td>\n",
       "      <td>2017</td>\n",
       "      <td>2096.093111</td>\n",
       "      <td>NaN</td>\n",
       "    </tr>\n",
       "    <tr>\n",
       "      <th>5</th>\n",
       "      <td>Afghanistan</td>\n",
       "      <td>2016</td>\n",
       "      <td>2101.422187</td>\n",
       "      <td>NaN</td>\n",
       "    </tr>\n",
       "    <tr>\n",
       "      <th>6</th>\n",
       "      <td>Afghanistan</td>\n",
       "      <td>2015</td>\n",
       "      <td>2108.714173</td>\n",
       "      <td>NaN</td>\n",
       "    </tr>\n",
       "    <tr>\n",
       "      <th>7</th>\n",
       "      <td>Afghanistan</td>\n",
       "      <td>2014</td>\n",
       "      <td>2144.449634</td>\n",
       "      <td>NaN</td>\n",
       "    </tr>\n",
       "    <tr>\n",
       "      <th>8</th>\n",
       "      <td>Afghanistan</td>\n",
       "      <td>2013</td>\n",
       "      <td>2165.340915</td>\n",
       "      <td>NaN</td>\n",
       "    </tr>\n",
       "    <tr>\n",
       "      <th>9</th>\n",
       "      <td>Afghanistan</td>\n",
       "      <td>2012</td>\n",
       "      <td>2122.830759</td>\n",
       "      <td>NaN</td>\n",
       "    </tr>\n",
       "  </tbody>\n",
       "</table>\n",
       "</div>"
      ],
      "text/plain": [
       "  Country or Area  Year        Value  Value Footnotes\n",
       "0     Afghanistan  2021  1517.016266              NaN\n",
       "1     Afghanistan  2020  1968.341002              NaN\n",
       "2     Afghanistan  2019  2079.921861              NaN\n",
       "3     Afghanistan  2018  2060.698973              NaN\n",
       "4     Afghanistan  2017  2096.093111              NaN\n",
       "5     Afghanistan  2016  2101.422187              NaN\n",
       "6     Afghanistan  2015  2108.714173              NaN\n",
       "7     Afghanistan  2014  2144.449634              NaN\n",
       "8     Afghanistan  2013  2165.340915              NaN\n",
       "9     Afghanistan  2012  2122.830759              NaN"
      ]
     },
     "execution_count": 117,
     "metadata": {},
     "output_type": "execute_result"
    }
   ],
   "source": [
    "gdp_df.head(10)"
   ]
  },
  {
   "cell_type": "code",
   "execution_count": 118,
   "id": "c244b23c-8670-412c-ba5d-a7a9404285a9",
   "metadata": {},
   "outputs": [
    {
     "data": {
      "text/html": [
       "<div>\n",
       "<style scoped>\n",
       "    .dataframe tbody tr th:only-of-type {\n",
       "        vertical-align: middle;\n",
       "    }\n",
       "\n",
       "    .dataframe tbody tr th {\n",
       "        vertical-align: top;\n",
       "    }\n",
       "\n",
       "    .dataframe thead th {\n",
       "        text-align: right;\n",
       "    }\n",
       "</style>\n",
       "<table border=\"1\" class=\"dataframe\">\n",
       "  <thead>\n",
       "    <tr style=\"text-align: right;\">\n",
       "      <th></th>\n",
       "      <th>Country or Area</th>\n",
       "      <th>Year</th>\n",
       "      <th>Value</th>\n",
       "      <th>Value Footnotes</th>\n",
       "    </tr>\n",
       "  </thead>\n",
       "  <tbody>\n",
       "    <tr>\n",
       "      <th>7652</th>\n",
       "      <td>Zimbabwe</td>\n",
       "      <td>1999</td>\n",
       "      <td>2866.032886</td>\n",
       "      <td>NaN</td>\n",
       "    </tr>\n",
       "    <tr>\n",
       "      <th>7653</th>\n",
       "      <td>Zimbabwe</td>\n",
       "      <td>1998</td>\n",
       "      <td>2931.725144</td>\n",
       "      <td>NaN</td>\n",
       "    </tr>\n",
       "    <tr>\n",
       "      <th>7654</th>\n",
       "      <td>Zimbabwe</td>\n",
       "      <td>1997</td>\n",
       "      <td>2896.147308</td>\n",
       "      <td>NaN</td>\n",
       "    </tr>\n",
       "    <tr>\n",
       "      <th>7655</th>\n",
       "      <td>Zimbabwe</td>\n",
       "      <td>1996</td>\n",
       "      <td>2867.026043</td>\n",
       "      <td>NaN</td>\n",
       "    </tr>\n",
       "    <tr>\n",
       "      <th>7656</th>\n",
       "      <td>Zimbabwe</td>\n",
       "      <td>1995</td>\n",
       "      <td>2641.378271</td>\n",
       "      <td>NaN</td>\n",
       "    </tr>\n",
       "    <tr>\n",
       "      <th>7657</th>\n",
       "      <td>Zimbabwe</td>\n",
       "      <td>1994</td>\n",
       "      <td>2670.106615</td>\n",
       "      <td>NaN</td>\n",
       "    </tr>\n",
       "    <tr>\n",
       "      <th>7658</th>\n",
       "      <td>Zimbabwe</td>\n",
       "      <td>1993</td>\n",
       "      <td>2458.783255</td>\n",
       "      <td>NaN</td>\n",
       "    </tr>\n",
       "    <tr>\n",
       "      <th>7659</th>\n",
       "      <td>Zimbabwe</td>\n",
       "      <td>1992</td>\n",
       "      <td>2468.278257</td>\n",
       "      <td>NaN</td>\n",
       "    </tr>\n",
       "    <tr>\n",
       "      <th>7660</th>\n",
       "      <td>Zimbabwe</td>\n",
       "      <td>1991</td>\n",
       "      <td>2781.787843</td>\n",
       "      <td>NaN</td>\n",
       "    </tr>\n",
       "    <tr>\n",
       "      <th>7661</th>\n",
       "      <td>Zimbabwe</td>\n",
       "      <td>1990</td>\n",
       "      <td>2704.757299</td>\n",
       "      <td>NaN</td>\n",
       "    </tr>\n",
       "  </tbody>\n",
       "</table>\n",
       "</div>"
      ],
      "text/plain": [
       "     Country or Area  Year        Value  Value Footnotes\n",
       "7652        Zimbabwe  1999  2866.032886              NaN\n",
       "7653        Zimbabwe  1998  2931.725144              NaN\n",
       "7654        Zimbabwe  1997  2896.147308              NaN\n",
       "7655        Zimbabwe  1996  2867.026043              NaN\n",
       "7656        Zimbabwe  1995  2641.378271              NaN\n",
       "7657        Zimbabwe  1994  2670.106615              NaN\n",
       "7658        Zimbabwe  1993  2458.783255              NaN\n",
       "7659        Zimbabwe  1992  2468.278257              NaN\n",
       "7660        Zimbabwe  1991  2781.787843              NaN\n",
       "7661        Zimbabwe  1990  2704.757299              NaN"
      ]
     },
     "execution_count": 118,
     "metadata": {},
     "output_type": "execute_result"
    }
   ],
   "source": [
    "gdp_df.tail(10)"
   ]
  },
  {
   "cell_type": "code",
   "execution_count": 123,
   "id": "1a411b74-cd38-4d13-9d51-612df42bad86",
   "metadata": {},
   "outputs": [],
   "source": [
    "gdp_df.drop(\"Value Footnotes\", axis = 1, inplace=True )"
   ]
  },
  {
   "cell_type": "code",
   "execution_count": 125,
   "id": "48a2b9e1-0aaf-4296-968e-67de04eec756",
   "metadata": {},
   "outputs": [],
   "source": [
    "gdp_df.rename(columns={'Country or Area':'Country', 'Value':'GDP_Per_Capita'}, inplace=True)"
   ]
  },
  {
   "cell_type": "code",
   "execution_count": 127,
   "id": "e5b5675f-7ea0-4d92-a709-1b0c6947776c",
   "metadata": {},
   "outputs": [
    {
     "name": "stdout",
     "output_type": "stream",
     "text": [
      "Country            object\n",
      "Year                int64\n",
      "GDP_Per_Capita    float64\n",
      "dtype: object\n"
     ]
    }
   ],
   "source": [
    "print(gdp_df.dtypes)"
   ]
  },
  {
   "cell_type": "markdown",
   "id": "b7444aeb-9b42-49e2-b0d0-c0f784ca1597",
   "metadata": {},
   "source": [
    "6. How many rows and columns does gdp_df have? What are the data types of its columns? If any of the columns are not the expected types, figure out why and fix it."
   ]
  },
  {
   "cell_type": "markdown",
   "id": "b8e574b7-fed5-466a-af28-2b839f6c4ba6",
   "metadata": {},
   "source": [
    "gdp_df has 7662 rows and 3 columns. \n",
    "The types of data of the columns are objects, integers and floats."
   ]
  },
  {
   "cell_type": "markdown",
   "id": "8a1daa55-2faf-4c40-ac15-cf157e5c943a",
   "metadata": {},
   "source": [
    "7. Which years are represented in this dataset? Take a look at the number of observations per year. What do you notice?"
   ]
  },
  {
   "cell_type": "code",
   "execution_count": 163,
   "id": "12af543e-aaed-4b9d-b7f8-0434d69bfead",
   "metadata": {},
   "outputs": [
    {
     "data": {
      "text/plain": [
       "Year\n",
       "2013    242\n",
       "2020    242\n",
       "2019    242\n",
       "2018    242\n",
       "2017    242\n",
       "2016    242\n",
       "2015    242\n",
       "2014    242\n",
       "2021    241\n",
       "2011    240\n",
       "2012    240\n",
       "2010    239\n",
       "2009    239\n",
       "2008    238\n",
       "2007    237\n",
       "2006    237\n",
       "2005    236\n",
       "2004    236\n",
       "2003    235\n",
       "2002    235\n",
       "2001    234\n",
       "2000    233\n",
       "2022    232\n",
       "1999    227\n",
       "1998    226\n",
       "1997    226\n",
       "1996    223\n",
       "1995    223\n",
       "1994    213\n",
       "1993    211\n",
       "1992    210\n",
       "1991    208\n",
       "1990    207\n",
       "Name: count, dtype: int64"
      ]
     },
     "execution_count": 163,
     "metadata": {},
     "output_type": "execute_result"
    }
   ],
   "source": [
    "gdp_df.value_counts('Year')"
   ]
  },
  {
   "cell_type": "markdown",
   "id": "9336ac3a-cb91-4fbf-bf0d-f379d5847d10",
   "metadata": {},
   "source": [
    "1990 all the way to 2022. Alot of the years that are more recent have moreobservations that older years. "
   ]
  },
  {
   "cell_type": "markdown",
   "id": "392a533a-df86-4ff6-847b-a13f7e6d008f",
   "metadata": {},
   "source": [
    "8. How many countries are represented in this dataset? Which countries are least represented in the dataset? Why do you think these countries have so few observations?\n"
   ]
  },
  {
   "cell_type": "code",
   "execution_count": 166,
   "id": "bdf67ea3-26b2-454f-9c26-a58e9deb3104",
   "metadata": {},
   "outputs": [
    {
     "data": {
      "text/plain": [
       "Country\n",
       "Least developed countries: UN classification          33\n",
       "Middle East & North Africa                            33\n",
       "Middle East & North Africa (excluding high income)    33\n",
       "Middle income                                         33\n",
       "Mongolia                                              33\n",
       "                                                      ..\n",
       "Kosovo                                                15\n",
       "Sint Maarten (Dutch part)                             14\n",
       "Turks and Caicos Islands                              12\n",
       "Somalia                                               10\n",
       "Djibouti                                              10\n",
       "Name: count, Length: 242, dtype: int64"
      ]
     },
     "execution_count": 166,
     "metadata": {},
     "output_type": "execute_result"
    }
   ],
   "source": [
    "gdp_df.value_counts('Country')"
   ]
  },
  {
   "cell_type": "markdown",
   "id": "4afefc97-8517-4403-88b6-56e2b7611f19",
   "metadata": {},
   "source": [
    "242 countries. These are smaller countries or island countries so they may not have the biggest population or the means to be well represented here. "
   ]
  },
  {
   "cell_type": "markdown",
   "id": "66e3fe26-ddc4-4ef9-9e97-1a089de1af89",
   "metadata": {},
   "source": [
    "9. Create a new dataframe by subsetting `gdp_df` to just the year 2021. Call this new dataframe `gdp_20121`."
   ]
  },
  {
   "cell_type": "code",
   "execution_count": 174,
   "id": "1436aaa2-72db-4602-90b1-a1ddf4e36a26",
   "metadata": {},
   "outputs": [],
   "source": [
    "gdp_20121 = gdp_df[gdp_df['Year'] == '2021']"
   ]
  },
  {
   "cell_type": "code",
   "execution_count": 176,
   "id": "6106826a-37d7-464d-8f0c-170a61f2bd57",
   "metadata": {},
   "outputs": [
    {
     "data": {
      "text/html": [
       "<div>\n",
       "<style scoped>\n",
       "    .dataframe tbody tr th:only-of-type {\n",
       "        vertical-align: middle;\n",
       "    }\n",
       "\n",
       "    .dataframe tbody tr th {\n",
       "        vertical-align: top;\n",
       "    }\n",
       "\n",
       "    .dataframe thead th {\n",
       "        text-align: right;\n",
       "    }\n",
       "</style>\n",
       "<table border=\"1\" class=\"dataframe\">\n",
       "  <thead>\n",
       "    <tr style=\"text-align: right;\">\n",
       "      <th></th>\n",
       "      <th>Year</th>\n",
       "      <th>GDP_Per_Capita</th>\n",
       "    </tr>\n",
       "  </thead>\n",
       "  <tbody>\n",
       "    <tr>\n",
       "      <th>count</th>\n",
       "      <td>0.0</td>\n",
       "      <td>0.0</td>\n",
       "    </tr>\n",
       "    <tr>\n",
       "      <th>mean</th>\n",
       "      <td>NaN</td>\n",
       "      <td>NaN</td>\n",
       "    </tr>\n",
       "    <tr>\n",
       "      <th>std</th>\n",
       "      <td>NaN</td>\n",
       "      <td>NaN</td>\n",
       "    </tr>\n",
       "    <tr>\n",
       "      <th>min</th>\n",
       "      <td>NaN</td>\n",
       "      <td>NaN</td>\n",
       "    </tr>\n",
       "    <tr>\n",
       "      <th>25%</th>\n",
       "      <td>NaN</td>\n",
       "      <td>NaN</td>\n",
       "    </tr>\n",
       "    <tr>\n",
       "      <th>50%</th>\n",
       "      <td>NaN</td>\n",
       "      <td>NaN</td>\n",
       "    </tr>\n",
       "    <tr>\n",
       "      <th>75%</th>\n",
       "      <td>NaN</td>\n",
       "      <td>NaN</td>\n",
       "    </tr>\n",
       "    <tr>\n",
       "      <th>max</th>\n",
       "      <td>NaN</td>\n",
       "      <td>NaN</td>\n",
       "    </tr>\n",
       "  </tbody>\n",
       "</table>\n",
       "</div>"
      ],
      "text/plain": [
       "       Year  GDP_Per_Capita\n",
       "count   0.0             0.0\n",
       "mean    NaN             NaN\n",
       "std     NaN             NaN\n",
       "min     NaN             NaN\n",
       "25%     NaN             NaN\n",
       "50%     NaN             NaN\n",
       "75%     NaN             NaN\n",
       "max     NaN             NaN"
      ]
     },
     "execution_count": 176,
     "metadata": {},
     "output_type": "execute_result"
    }
   ],
   "source": [
    "gdp_20121.describe()"
   ]
  },
  {
   "cell_type": "code",
   "execution_count": null,
   "id": "aa52a283-801a-41b0-ada5-d94fb89e0b98",
   "metadata": {},
   "outputs": [],
   "source": []
  }
 ],
 "metadata": {
  "kernelspec": {
   "display_name": "Python 3 (ipykernel)",
   "language": "python",
   "name": "python3"
  },
  "language_info": {
   "codemirror_mode": {
    "name": "ipython",
    "version": 3
   },
   "file_extension": ".py",
   "mimetype": "text/x-python",
   "name": "python",
   "nbconvert_exporter": "python",
   "pygments_lexer": "ipython3",
   "version": "3.12.4"
  }
 },
 "nbformat": 4,
 "nbformat_minor": 5
}
